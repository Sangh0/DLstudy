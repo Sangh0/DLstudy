{
 "cells": [
  {
   "cell_type": "markdown",
   "id": "8b1f2202",
   "metadata": {},
   "source": [
    "# DL Study third week\n",
    "### MNIST dataset으로 CNN 모델 학습하기"
   ]
  },
  {
   "cell_type": "code",
   "execution_count": 1,
   "id": "c26aa939",
   "metadata": {},
   "outputs": [],
   "source": [
    "# 필요 라이브러리 및 모듈 로드\n",
    "import numpy as np\n",
    "import matplotlib.pyplot as plt\n",
    "import tensorflow as tf"
   ]
  },
  {
   "cell_type": "code",
   "execution_count": 4,
   "id": "46c93276",
   "metadata": {},
   "outputs": [],
   "source": [
    "# mnist dataset 로드\n",
    "mnist = tf.keras.datasets.mnist\n",
    "\n",
    "(X_train, y_train), (X_test, y_test) = mnist.load_data()"
   ]
  },
  {
   "cell_type": "code",
   "execution_count": null,
   "id": "637bcc76",
   "metadata": {},
   "outputs": [],
   "source": [
    "# dataset의 차원 확인하기\n",
    "print('The dimension of train data :', X_train.shape, y_train.shape)\n",
    "print('The dimension of test data :', X_test.shape, y_test.shape)"
   ]
  },
  {
   "cell_type": "code",
   "execution_count": null,
   "id": "25cb2c51",
   "metadata": {},
   "outputs": [],
   "source": [
    "# label data를 one-hot encoding으로 변환 \n",
    "y_train = tf.keras.utils.to_categorical(y_train)\n",
    "y_test = tf.keras.utils.to_categorical(y_test)"
   ]
  },
  {
   "cell_type": "code",
   "execution_count": null,
   "id": "75aaff6a",
   "metadata": {},
   "outputs": [],
   "source": [
    "# normalization\n",
    "X_train = X_train/255.0\n",
    "X_test = X_test/255.0"
   ]
  },
  {
   "cell_type": "markdown",
   "id": "a1ec70e3",
   "metadata": {},
   "source": [
    "# CNN model 구축  \n",
    "- CNN을 다루기 위해 필요한 용어 파악하기!  \n",
    "    - 1. convolution  \n",
    "    - 2. channel  \n",
    "    - 3. filter or kernel  \n",
    "    - 4. stride  \n",
    "    - 5. padding  \n",
    "    - 6. pooling\n",
    "    \n",
    "- 1. convolution  \n",
    "    - 합성곱 연산을 의미 (행렬곱이 아님을 주의!)\n",
    "    \n",
    "<img src = \"http://deeplearning.stanford.edu/wiki/images/6/6c/Convolution_schematic.gif\">\n",
    "\n",
    "- 2. channel  \n",
    "    - 컬러 사진은 RGB 3 channel로 이루어짐  \n",
    "\n",
    "<img src = \"https://taewanmerepo.github.io/2018/01/cnn/channel.jpg\" width=500>  \n",
    "\n",
    "- 3. filter or kernel  \n",
    "    - 이미지의 특징을 찾아내는 역할  \n",
    "    - 일반적으로 (3,3) 정사각형 행렬로 정의됨  \n",
    "    - CNN에서 학습의 대상!  \n",
    "    - filter는 지정된 간격(stride)으로 이동하면서 이미지와 합성곱하면서 feature map 생성  \n",
    "<img src = \"https://taewanmerepo.github.io/2018/01/cnn/conv.png\">  \n",
    "\n",
    "- 4. stride  \n",
    "    - filter를 얼만큼 순회할지 결정하는 파라미터  \n",
    "    - stride=1로 설정하면 1칸씩 이동하면서 합성곱을 수행하게 됨  \n",
    "<img src = \"https://taewanmerepo.github.io/2018/01/cnn/filter.jpg\">\n",
    "\n",
    "- 5. padding  \n",
    "    - convolution layer에서 filter와 stride로 인해 featrue map의 크기는 input image 보다 크기가 작음  \n",
    "    - convolution layer에서 output의 크기가 줄어드는 것을 방지하는 것이 padding  \n",
    "    - padding은 input data의 외곽에 지정된 픽셀만큼 특정 값으로 채움을 의미  \n",
    "    - 보통 0으로 채움  \n",
    "<img src = \"https://taewanmerepo.github.io/2018/01/cnn/padding.png\">\n",
    "\n",
    "- 6. pooling  \n",
    "    - pooling layer는 convolution layer의 output을 입력으로 받아 크기를 줄여주는 역할  \n",
    "    - 또는 특정 feature를 강조하는 용도로 사용됨!  \n",
    "    - pooling layer로는 max pooling, average pooling 등이 존재  \n",
    "<img src = \"https://taewanmerepo.github.io/2018/02/cnn/maxpulling.png\">  "
   ]
  },
  {
   "cell_type": "code",
   "execution_count": null,
   "id": "cd028432",
   "metadata": {},
   "outputs": [],
   "source": [
    "# 모델 구축하기 전에 이미지 shape 변경\n",
    "X_train = X_train.reshape(-1, 28, 28, 1)\n",
    "X_test = X_test.reshape(-1, 28, 28, 1)"
   ]
  },
  {
   "cell_type": "code",
   "execution_count": 2,
   "id": "f05e46d1",
   "metadata": {
    "scrolled": true
   },
   "outputs": [],
   "source": [
    "# CNN 구축\n",
    "model = tf.keras.models.Sequential([\n",
    "    ################# first convolution layer #################\n",
    "    tf.keras.layers.Conv2D(10, kernel_size=(3,3), strides=1, padding='same', activation='relu',\n",
    "                           input_shape=(28,28,1)),\n",
    "    ################# first pooling layer #################\n",
    "    tf.keras.layers.MaxPooling2D(pool_size=(2,2)),\n",
    "    \n",
    "    ################# second convolution layer #################\n",
    "    tf.keras.layers.Conv2D(20, kernel_size=(3,3), strides=1, padding='same', activation='relu'),\n",
    "    ################# second pooling layer #################\n",
    "    tf.keras.layers.MaxPooling2D(pool_size=(2,2)),\n",
    "    \n",
    "    ################# fully connected layer #################\n",
    "    tf.keras.layers.Flatten(),\n",
    "    tf.keras.layers.Dense(100, activation='relu'),\n",
    "    tf.keras.layers.Dense(10, activation='softmax'),\n",
    "    #########################################################\n",
    "])"
   ]
  },
  {
   "cell_type": "code",
   "execution_count": 3,
   "id": "e4bdac02",
   "metadata": {},
   "outputs": [
    {
     "name": "stdout",
     "output_type": "stream",
     "text": [
      "Model: \"sequential\"\n",
      "_________________________________________________________________\n",
      " Layer (type)                Output Shape              Param #   \n",
      "=================================================================\n",
      " conv2d (Conv2D)             (None, 28, 28, 10)        100       \n",
      "                                                                 \n",
      " max_pooling2d (MaxPooling2D  (None, 14, 14, 10)       0         \n",
      " )                                                               \n",
      "                                                                 \n",
      " conv2d_1 (Conv2D)           (None, 14, 14, 20)        1820      \n",
      "                                                                 \n",
      " max_pooling2d_1 (MaxPooling  (None, 7, 7, 20)         0         \n",
      " 2D)                                                             \n",
      "                                                                 \n",
      " flatten (Flatten)           (None, 980)               0         \n",
      "                                                                 \n",
      " dense (Dense)               (None, 100)               98100     \n",
      "                                                                 \n",
      " dense_1 (Dense)             (None, 10)                1010      \n",
      "                                                                 \n",
      "=================================================================\n",
      "Total params: 101,030\n",
      "Trainable params: 101,030\n",
      "Non-trainable params: 0\n",
      "_________________________________________________________________\n"
     ]
    }
   ],
   "source": [
    "model.summary()"
   ]
  },
  {
   "cell_type": "code",
   "execution_count": 26,
   "id": "2aaac1cd",
   "metadata": {},
   "outputs": [],
   "source": [
    "# 학습하기 전 모델 compile하기\n",
    "optimizer = tf.keras.optimizers.SGD(learning_rate=0.01)\n",
    "model.compile(optimizer=optimizer, \n",
    "              loss='categorical_crossentropy',\n",
    "              metrics=['accuracy'])"
   ]
  },
  {
   "cell_type": "code",
   "execution_count": 28,
   "id": "bb866d5a",
   "metadata": {},
   "outputs": [
    {
     "name": "stdout",
     "output_type": "stream",
     "text": [
      "Epoch 1/10\n",
      "1875/1875 [==============================] - 8s 3ms/step - loss: 0.5867 - acc: 0.8185\n",
      "Epoch 2/10\n",
      "1875/1875 [==============================] - 7s 4ms/step - loss: 0.1751 - acc: 0.9465\n",
      "Epoch 3/10\n",
      "1875/1875 [==============================] - 7s 4ms/step - loss: 0.1219 - acc: 0.9625\n",
      "Epoch 4/10\n",
      "1875/1875 [==============================] - 7s 4ms/step - loss: 0.0947 - acc: 0.9708\n",
      "Epoch 5/10\n",
      "1875/1875 [==============================] - 6s 3ms/step - loss: 0.0802 - acc: 0.9749\n",
      "Epoch 6/10\n",
      "1875/1875 [==============================] - 7s 4ms/step - loss: 0.0691 - acc: 0.9790\n",
      "Epoch 7/10\n",
      "1875/1875 [==============================] - 7s 3ms/step - loss: 0.0612 - acc: 0.9809\n",
      "Epoch 8/10\n",
      "1875/1875 [==============================] - 7s 4ms/step - loss: 0.0565 - acc: 0.9820\n",
      "Epoch 9/10\n",
      "1875/1875 [==============================] - 7s 4ms/step - loss: 0.0510 - acc: 0.9841\n",
      "Epoch 10/10\n",
      "1875/1875 [==============================] - 7s 4ms/step - loss: 0.0469 - acc: 0.9853\n"
     ]
    }
   ],
   "source": [
    "# 모델 학습\n",
    "history = model.fit(X_train, y_train, epochs=10)"
   ]
  },
  {
   "cell_type": "code",
   "execution_count": null,
   "id": "71fc8145",
   "metadata": {},
   "outputs": [],
   "source": [
    "# loss 및 accuracy 그래프 살펴보기\n",
    "plt.figure(figsize=(10,7))\n",
    "plt.plot(history.history['loss'], label='loss')\n",
    "plt.plot(history.history['accuracy'], label='accuracy')\n",
    "plt.legend(loc='best')\n",
    "plt.show()\n",
    "# loss는 0에 가까울수록, 수렴할수록 잘 훈련되었다는 증거!\n",
    "# accuracy의 경우 1에 가까울수록 잘 훈련되었다는 증거!"
   ]
  },
  {
   "cell_type": "code",
   "execution_count": null,
   "id": "16b2c3ba",
   "metadata": {},
   "outputs": [],
   "source": [
    "# 모델 평가\n",
    "test_loss, test_acc = model.evaluate(X_test, y_test, verbose=2)\n",
    "print(f'Error: {test_loss}, Accuracy: {test_acc*100:.2f}%')"
   ]
  },
  {
   "cell_type": "code",
   "execution_count": null,
   "id": "b06b0cd1",
   "metadata": {},
   "outputs": [],
   "source": [
    "# test data에 대해 model prediction 진행\n",
    "prediction = model.predict(X_test)"
   ]
  },
  {
   "cell_type": "code",
   "execution_count": null,
   "id": "2c56fe31",
   "metadata": {},
   "outputs": [],
   "source": [
    "# one-hot encoding label -> integer label\n",
    "prediction_label = np.argmax(prediction, axis=1)\n",
    "test_label = np.argmax(y_test, axis=1)"
   ]
  },
  {
   "cell_type": "code",
   "execution_count": 31,
   "id": "bc34e95c",
   "metadata": {},
   "outputs": [
    {
     "data": {
      "text/plain": [
       "[<matplotlib.lines.Line2D at 0x21c4f258220>]"
      ]
     },
     "execution_count": 31,
     "metadata": {},
     "output_type": "execute_result"
    },
    {
     "data": {
      "image/png": "[encoded data removed]",
      "text/plain": [
       "<Figure size 432x288 with 1 Axes>"
      ]
     },
     "metadata": {
      "needs_background": "light"
     },
     "output_type": "display_data"
    }
   ],
   "source": [
    "# prediction_label과 test_label이 같지 않은 인덱스들 뽑기\n",
    "false_index = np.where(prediction_label!=test_label)[0]"
   ]
  },
  {
   "cell_type": "code",
   "execution_count": null,
   "id": "6512d0a2",
   "metadata": {},
   "outputs": [],
   "source": [
    "# 잘못 분류된 이미지와 라벨과 score 살펴보기\n",
    "plt.figure(figsize=(20,25))\n",
    "for i in range(25):\n",
    "    plt.subplot(5,5,i+1)\n",
    "    plt.imshow(X_test[false_index[i]], cmap='gray')\n",
    "    plt.title(f'score: {prediction[false_index[i]][prediction_label[false_index[i]]]:.2f}'\n",
    "              f'\\nlabel: {test_label[false_index[i]]},'\n",
    "              f' predicted: {prediction_label[false_index[i]]}\\n',\n",
    "              fontsize=15)\n",
    "plt.show()"
   ]
  },
  {
   "cell_type": "markdown",
   "id": "26e563c0",
   "metadata": {},
   "source": [
    "# Homework  \n",
    "- 본인이 하고 싶은 dataset으로 CNN model 학습시키기  "
   ]
  },
  {
   "cell_type": "code",
   "execution_count": null,
   "id": "dd5cc92d",
   "metadata": {},
   "outputs": [],
   "source": []
  }
 ],
 "metadata": {
  "kernelspec": {
   "display_name": "Python 3 (ipykernel)",
   "language": "python",
   "name": "python3"
  },
  "language_info": {
   "codemirror_mode": {
    "name": "ipython",
    "version": 3
   },
   "file_extension": ".py",
   "mimetype": "text/x-python",
   "name": "python",
   "nbconvert_exporter": "python",
   "pygments_lexer": "ipython3",
   "version": "3.9.7"
  }
 },
 "nbformat": 4,
 "nbformat_minor": 5
}
